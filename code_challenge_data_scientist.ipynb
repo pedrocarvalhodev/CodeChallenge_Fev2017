{
 "cells": [
  {
   "cell_type": "markdown",
   "metadata": {},
   "source": [
    "<b>1. Introduction</b>\n",
    "\n",
    "The objective of this presentation is to propose a clustering of the client data, detailing the process and describing the weak and strong points.\n",
    "\n",
    "<b>2. Clean Data & Feature Engineering</b>\n",
    "\n",
    "The data set did not have missing values and each variable has consistent data types in all observations. \n",
    "\n",
    "However there were problems regarding AGE and PROFESSION such as \"ANALISTA\" or \"ADMINISTRADOR\" younger than ten years old. That data was removed of the analysis until further clarification.\n",
    "\n",
    "Variables \"PROFISSAO\" E \"ESTADO CIVIL\" were simplified by taking the first word of the description.\n",
    "\n",
    "The variable \"GEO_REFERENCIA\" was used to create new features, specifically, the raking of four clusters by percentile of each geo reference in relation to variables \"VALOR{1,2,3,4}\". \n",
    "\n",
    "<b>3. Variable importance</b>\n",
    "\n",
    "Given the large number of variables, it is important to reduce the data to the most relevant ones. In order to do this, we select one variable (VALOR_1) as the target, and the remaining as the explanatory variables. We conclude that IDADE AND VALOR variables are the most important. The least important were specific professions with few data available.\n",
    "\n",
    "<b>4. Clustering</b>\n",
    "\n",
    "The clustering algorithm chosen is KMeans. This algorithm calculates the distance between data points to define groups. One problem in this application is that the grouping was very skewed with one group containg >90% of all users. A solution to this is removing outliers and normalizing data.\n",
    "\n",
    "<b>5. Cross Validation</b>\n",
    "\n",
    "Clustering is an unsupervised algorithm. However, is it easier to assess the performance of an approach with a target variable.\n",
    "\n",
    "The typical method to test the performance of a model is to split the dataset in two different samples, in order to avoid information leakage, training the model in one and testing in the other one.\n",
    "\n",
    "The metric of performance choosen was RMSE, because the target variable is continuous. This method calculates the root mean square error between the true values and the predicted values. The model with the lowest RMSE would be the best."
   ]
  },
  {
   "cell_type": "code",
   "execution_count": null,
   "metadata": {
    "collapsed": false
   },
   "outputs": [],
   "source": [
    "import numpy as np\n",
    "import pandas as pd\n",
    "import datetime as datetime\n",
    "\n",
    "from functions import *\n",
    "\n",
    "import collections\n",
    "from patsy import dmatrices\n",
    "\n",
    "import sklearn as sk\n",
    "from sklearn import cross_validation\n",
    "from sklearn.metrics import mean_squared_error\n",
    "from sklearn.ensemble import RandomForestClassifier\n",
    "from sklearn.cluster import KMeans\n",
    "import statsmodels.formula.api as smf"
   ]
  },
  {
   "cell_type": "code",
   "execution_count": null,
   "metadata": {
    "collapsed": false
   },
   "outputs": [],
   "source": [
    "%matplotlib inline\n",
    "import matplotlib.pyplot as plt\n",
    "import seaborn as sns"
   ]
  },
  {
   "cell_type": "code",
   "execution_count": null,
   "metadata": {
    "collapsed": false
   },
   "outputs": [],
   "source": [
    "print np.__version__  # 1.11.1\n",
    "print pd.__version__  # 0.18.1\n",
    "print sk.__version__  # 0.17.1\n",
    "print sns.__version__ # 0.5.1"
   ]
  },
  {
   "cell_type": "code",
   "execution_count": null,
   "metadata": {
    "collapsed": false
   },
   "outputs": [],
   "source": [
    "local_path = !pwd"
   ]
  },
  {
   "cell_type": "code",
   "execution_count": null,
   "metadata": {
    "collapsed": false
   },
   "outputs": [],
   "source": [
    "df=pd.read_excel(local_path[0] + \"/Dataset - Code Challenge Data Scientist.xlsx\")"
   ]
  },
  {
   "cell_type": "code",
   "execution_count": null,
   "metadata": {
    "collapsed": false
   },
   "outputs": [],
   "source": [
    "# 1.No missing values : Check\n",
    "df.shape == df.dropna().shape"
   ]
  },
  {
   "cell_type": "code",
   "execution_count": null,
   "metadata": {
    "collapsed": false
   },
   "outputs": [],
   "source": [
    "# 2. Each variable has only one data type : Check\n",
    "for col in df.columns:\n",
    "    print len(set(map(type, df[col].values))), \" : \",set(map(type, df[col].values)), col "
   ]
  },
  {
   "cell_type": "markdown",
   "metadata": {},
   "source": [
    "## 2. Clean Data  & Feature Engineering"
   ]
  },
  {
   "cell_type": "code",
   "execution_count": null,
   "metadata": {
    "collapsed": false
   },
   "outputs": [],
   "source": [
    "df = clean_data(df)"
   ]
  },
  {
   "cell_type": "markdown",
   "metadata": {},
   "source": [
    "## 3. Variable importance"
   ]
  },
  {
   "cell_type": "code",
   "execution_count": null,
   "metadata": {
    "collapsed": true
   },
   "outputs": [],
   "source": [
    "formula = \"VALOR_01 ~ C(PERFIL) + IDADE + C(PROFISSAO_GERAL) + C(ESTADO_CIVIL_GERAL) + VALOR_02 + \" \\\n",
    "\"VALOR_03 + VALOR_04 + C(VALOR_01_GEO_REF) + C(VALOR_02_GEO_REF) + C(VALOR_03_GEO_REF) + C(VALOR_04_GEO_REF)\""
   ]
  },
  {
   "cell_type": "code",
   "execution_count": null,
   "metadata": {
    "collapsed": false
   },
   "outputs": [],
   "source": [
    "formula"
   ]
  },
  {
   "cell_type": "code",
   "execution_count": null,
   "metadata": {
    "collapsed": true
   },
   "outputs": [],
   "source": [
    "y, X = dmatrices(formula, data=df, return_type='dataframe')"
   ]
  },
  {
   "cell_type": "code",
   "execution_count": null,
   "metadata": {
    "collapsed": false
   },
   "outputs": [],
   "source": [
    "clf = RandomForestClassifier()\n",
    "clf.fit(X,\n",
    "        np.asarray(y['VALOR_01'], dtype=\"|S6\"))\n",
    "\n",
    "imp = clf.feature_importances_\n",
    "names = X.columns\n",
    "\n",
    "imp, names = zip(*sorted(zip(imp, names)))\n",
    "\n",
    "imp_by_var = dict(zip(names, imp))\n",
    "\n",
    "df_var_importance = pd.DataFrame(imp_by_var, index=[0]).transpose()\n",
    "df_var_importance.columns = [\"var_importance\"]\n",
    "df_var_importance = df_var_importance.sort_values(by=\"var_importance\", ascending=False)\n",
    "df_var_importance.head()"
   ]
  },
  {
   "cell_type": "code",
   "execution_count": null,
   "metadata": {
    "collapsed": false
   },
   "outputs": [],
   "source": [
    "df_var_importance.head(10).plot(kind=\"barh\", title=\"Most Important Variables\")"
   ]
  },
  {
   "cell_type": "code",
   "execution_count": null,
   "metadata": {
    "collapsed": false
   },
   "outputs": [],
   "source": [
    "df_var_importance.tail(10).plot(kind=\"barh\", title=\"Least Important Variables\")"
   ]
  },
  {
   "cell_type": "markdown",
   "metadata": {},
   "source": [
    "## 4. Clustering"
   ]
  },
  {
   "cell_type": "code",
   "execution_count": null,
   "metadata": {
    "collapsed": false
   },
   "outputs": [],
   "source": [
    "formula = \"ID ~ C(PERFIL) + IDADE + C(PROFISSAO_GERAL) + C(ESTADO_CIVIL_GERAL) + VALOR_01 + VALOR_02 + \" \\\n",
    "\"VALOR_03 + VALOR_04 + C(VALOR_01_GEO_REF) + C(VALOR_02_GEO_REF) + C(VALOR_03_GEO_REF) + C(VALOR_04_GEO_REF)\"\n",
    "\n",
    "y, X = dmatrices(formula, data=df, return_type='dataframe')"
   ]
  },
  {
   "cell_type": "code",
   "execution_count": null,
   "metadata": {
    "collapsed": false
   },
   "outputs": [],
   "source": [
    "# Cluster\n",
    "km = KMeans(4, init='k-means++') # initialize\n",
    "km.fit(X)\n",
    "c = km.predict(X) # classify into three clusters\n",
    "print collections.Counter(c)"
   ]
  },
  {
   "cell_type": "code",
   "execution_count": null,
   "metadata": {
    "collapsed": false
   },
   "outputs": [],
   "source": [
    "#df.PERFIL.nunique()\n",
    "print collections.Counter(df.PERFIL.values)"
   ]
  },
  {
   "cell_type": "code",
   "execution_count": null,
   "metadata": {
    "collapsed": false
   },
   "outputs": [],
   "source": [
    "X[\"cluster\"] = c"
   ]
  },
  {
   "cell_type": "code",
   "execution_count": null,
   "metadata": {
    "collapsed": false
   },
   "outputs": [],
   "source": [
    "sns.lmplot('VALOR_01', 'VALOR_02', data=X, hue='cluster', fit_reg=False)\n",
    "plt.title(\"VALOR_01 VS VALOR_02\")\n",
    "plt.show()"
   ]
  },
  {
   "cell_type": "code",
   "execution_count": null,
   "metadata": {
    "collapsed": false
   },
   "outputs": [],
   "source": [
    "sns.lmplot('VALOR_02', 'VALOR_03', data=X, hue='cluster', fit_reg=False)\n",
    "plt.title(\"VALOR_02 VS VALOR_03\")\n",
    "plt.show()"
   ]
  },
  {
   "cell_type": "code",
   "execution_count": null,
   "metadata": {
    "collapsed": false
   },
   "outputs": [],
   "source": [
    "sns.lmplot('VALOR_01', 'VALOR_03', data=X, hue='cluster', fit_reg=False)\n",
    "plt.title(\"VALOR_01 VS VALOR_03\")\n",
    "plt.show()"
   ]
  },
  {
   "cell_type": "code",
   "execution_count": null,
   "metadata": {
    "collapsed": true
   },
   "outputs": [],
   "source": []
  },
  {
   "cell_type": "markdown",
   "metadata": {
    "collapsed": true
   },
   "source": [
    "## 5. Cross Validation"
   ]
  },
  {
   "cell_type": "code",
   "execution_count": null,
   "metadata": {
    "collapsed": true
   },
   "outputs": [],
   "source": [
    "model_formula = \"VALOR_01 ~ C(PERFIL) + IDADE + C(ESTADO_CIVIL_GERAL) + VALOR_02 + \" \\\n",
    "\"VALOR_03 + VALOR_04 + C(VALOR_01_GEO_REF) + C(VALOR_02_GEO_REF) + C(VALOR_03_GEO_REF) + C(VALOR_04_GEO_REF)\""
   ]
  },
  {
   "cell_type": "code",
   "execution_count": null,
   "metadata": {
    "collapsed": false
   },
   "outputs": [],
   "source": [
    "train, test = cross_validation.train_test_split(df, test_size = 0.5)"
   ]
  },
  {
   "cell_type": "code",
   "execution_count": null,
   "metadata": {
    "collapsed": false
   },
   "outputs": [],
   "source": [
    "mod = smf.ols(formula=model_formula, data=train)\n",
    "res = mod.fit()\n",
    "print res.summary()"
   ]
  },
  {
   "cell_type": "code",
   "execution_count": null,
   "metadata": {
    "collapsed": false
   },
   "outputs": [],
   "source": [
    "y_true = test[\"VALOR_01\"]\n",
    "y_pred = res.predict(test)"
   ]
  },
  {
   "cell_type": "code",
   "execution_count": null,
   "metadata": {
    "collapsed": false
   },
   "outputs": [],
   "source": [
    "mean_squared_error(y_true, y_pred)"
   ]
  }
 ],
 "metadata": {
  "kernelspec": {
   "display_name": "Python 2",
   "language": "python",
   "name": "python2"
  },
  "language_info": {
   "codemirror_mode": {
    "name": "ipython",
    "version": 2
   },
   "file_extension": ".py",
   "mimetype": "text/x-python",
   "name": "python",
   "nbconvert_exporter": "python",
   "pygments_lexer": "ipython2",
   "version": "2.7.11"
  }
 },
 "nbformat": 4,
 "nbformat_minor": 0
}
